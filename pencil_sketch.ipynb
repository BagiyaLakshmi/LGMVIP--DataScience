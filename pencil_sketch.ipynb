{
 "cells": [
  {
   "cell_type": "code",
   "execution_count": 1,
   "id": "589071aa-64e8-4077-81a8-bce42b34e328",
   "metadata": {},
   "outputs": [
    {
     "name": "stdout",
     "output_type": "stream",
     "text": [
      "Requirement already satisfied: opencv-python in /home/baghiya/miniconda3/envs/py393/lib/python3.9/site-packages (4.7.0.68)\n",
      "Requirement already satisfied: numpy>=1.17.3 in /home/baghiya/miniconda3/envs/py393/lib/python3.9/site-packages (from opencv-python) (1.24.1)\n",
      "\n",
      "\u001b[1m[\u001b[0m\u001b[34;49mnotice\u001b[0m\u001b[1;39;49m]\u001b[0m\u001b[39;49m A new release of pip is available: \u001b[0m\u001b[31;49m23.0.1\u001b[0m\u001b[39;49m -> \u001b[0m\u001b[32;49m23.1.2\u001b[0m\n",
      "\u001b[1m[\u001b[0m\u001b[34;49mnotice\u001b[0m\u001b[1;39;49m]\u001b[0m\u001b[39;49m To update, run: \u001b[0m\u001b[32;49mpip install --upgrade pip\u001b[0m\n",
      "Note: you may need to restart the kernel to use updated packages.\n"
     ]
    }
   ],
   "source": [
    "pip install opencv-python\n"
   ]
  },
  {
   "cell_type": "code",
   "execution_count": 2,
   "id": "099b0eba-fc1b-45a3-8ef1-013c753fe44b",
   "metadata": {},
   "outputs": [],
   "source": [
    "import cv2\n",
    "img = cv2.imread(\"bagiya_linkedin.jpeg\")"
   ]
  },
  {
   "cell_type": "code",
   "execution_count": 3,
   "id": "57bb520c-2f7c-43c9-b2a4-ad7427162f8b",
   "metadata": {},
   "outputs": [],
   "source": [
    "gray_img = cv2.cvtColor(img, cv2.COLOR_BGR2GRAY)\n"
   ]
  },
  {
   "cell_type": "code",
   "execution_count": 4,
   "id": "87156a35-bd76-483c-b227-f39460128b2b",
   "metadata": {},
   "outputs": [],
   "source": [
    "inverted_img = cv2.bitwise_not(gray_img)\n"
   ]
  },
  {
   "cell_type": "code",
   "execution_count": 5,
   "id": "8c705cc8-aa28-4faa-97aa-2c74bc5cbbf7",
   "metadata": {},
   "outputs": [],
   "source": [
    "blurred_img = cv2.GaussianBlur(inverted_img, (21, 21), 0)\n"
   ]
  },
  {
   "cell_type": "code",
   "execution_count": 6,
   "id": "d75f768d-d86a-4b53-98a8-fd93c284e76f",
   "metadata": {},
   "outputs": [],
   "source": [
    "pencil_sketch_img = cv2.divide(gray_img, blurred_img, scale=256)\n"
   ]
  },
  {
   "cell_type": "code",
   "execution_count": null,
   "id": "39bc4f9e-0ca3-444e-bacf-c01ba3639bb8",
   "metadata": {},
   "outputs": [],
   "source": [
    "cv2.imshow(\"Pencil Sketch\", pencil_sketch_img)\n",
    "cv2.waitKey(0)\n",
    "\n"
   ]
  },
  {
   "cell_type": "code",
   "execution_count": null,
   "id": "a8890746-1a10-49ac-9d8e-bf675ec04572",
   "metadata": {},
   "outputs": [],
   "source": []
  }
 ],
 "metadata": {
  "kernelspec": {
   "display_name": "Python 3 (ipykernel)",
   "language": "python",
   "name": "python3"
  },
  "language_info": {
   "codemirror_mode": {
    "name": "ipython",
    "version": 3
   },
   "file_extension": ".py",
   "mimetype": "text/x-python",
   "name": "python",
   "nbconvert_exporter": "python",
   "pygments_lexer": "ipython3",
   "version": "3.9.15"
  }
 },
 "nbformat": 4,
 "nbformat_minor": 5
}
